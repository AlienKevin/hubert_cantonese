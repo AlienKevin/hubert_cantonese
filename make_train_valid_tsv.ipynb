{
 "cells": [
  {
   "cell_type": "code",
   "execution_count": 6,
   "metadata": {},
   "outputs": [
    {
     "name": "stdout",
     "output_type": "stream",
     "text": [
      "189216\n"
     ]
    }
   ],
   "source": [
    "import glob\n",
    "from pathlib import Path\n",
    "\n",
    "data_dir = Path(\"/Volumes/Documents/personal/sbs_cantonese/segments\")\n",
    "\n",
    "# Read all flac files in segments/\n",
    "segments = sorted((Path(path).stem.removesuffix(\".flac\") for path in glob.glob((data_dir/'*.flac').as_posix())))\n",
    "\n",
    "print(len(segments))"
   ]
  },
  {
   "cell_type": "code",
   "execution_count": 11,
   "metadata": {},
   "outputs": [],
   "source": [
    "with open(\"metadata/train.tsv\", \"w+\") as f:\n",
    "    f.write(f\"{data_dir}\\n\")\n",
    "    for segment in segments[:int(len(segments)*0.9)]:\n",
    "        f.write(f\"{segment}.flac\\n\")\n",
    "\n",
    "with open(\"metadata/valid.tsv\", \"w+\") as f:\n",
    "    f.write(f\"{data_dir}\\n\")\n",
    "    for segment in segments[int(len(segments)*0.9):]:\n",
    "        f.write(f\"{segment}.flac\\n\")"
   ]
  }
 ],
 "metadata": {
  "kernelspec": {
   "display_name": "base",
   "language": "python",
   "name": "python3"
  },
  "language_info": {
   "codemirror_mode": {
    "name": "ipython",
    "version": 3
   },
   "file_extension": ".py",
   "mimetype": "text/x-python",
   "name": "python",
   "nbconvert_exporter": "python",
   "pygments_lexer": "ipython3",
   "version": "3.11.4"
  }
 },
 "nbformat": 4,
 "nbformat_minor": 2
}
